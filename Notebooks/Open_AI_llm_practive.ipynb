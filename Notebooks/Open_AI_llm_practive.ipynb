{
 "cells": [
  {
   "cell_type": "code",
   "execution_count": null,
   "id": "15a4c970",
   "metadata": {},
   "outputs": [],
   "source": [
    "# import necessary libraries\n",
    "import openai\n",
    "from datetime import datetime\n",
    "from dateutil import parser as date_parser\n",
    "import json"
   ]
  },
  {
   "cell_type": "code",
   "execution_count": 2,
   "id": "ad3597c8",
   "metadata": {},
   "outputs": [],
   "source": [
    "openai.api_key = \"your-openai-key\""
   ]
  },
  {
   "cell_type": "code",
   "execution_count": null,
   "id": "9c711478",
   "metadata": {},
   "outputs": [],
   "source": [
    "def build_prompt(user_input, today=\"2025-09-18\"):\n",
    "    return f\"\"\"\n",
    "You're a calendar event parser. Only output valid JSON — no text or explanations.\n",
    "\n",
    "For each event you find, return an object like:\n",
    "{{\n",
    "  \"title\": \"string\",\n",
    "  \"event_date\": \"YYYY-MM-DD\",\n",
    "  \"event_time\": \"HH:MM\" | \"\",\n",
    "  \"end_time\": \"HH:MM\" | \"\",\n",
    "  \"end_date\": \"YYYY-MM-DD\",\n",
    "  \"timezone\": \"\",\n",
    "  \"location\": \"string\",\n",
    "  \"invitees\": [\"email\", ...],\n",
    "  \"notifications\": [{{\"method\":\"email|popup\",\"minutes\": int}}],\n",
    "  \"recurrence\": \"RRULE or ''\",\n",
    "  \"confidence\": float (0.0 - 1.0)\n",
    "}}\n",
    "\n",
    "Today is {today}.\n",
    "\n",
    "Example input:\n",
    "\"Assignment 1 Due: Wednesday, May 28, 2025 at 11:59 PM (ET)\"\n",
    "\n",
    "Example output:\n",
    "[\n",
    "  {{\n",
    "    \"title\": \"Assignment 1 Due\",\n",
    "    \"event_date\": \"2025-05-28\",\n",
    "    \"event_time\": \"23:59\",\n",
    "    \"end_time\": \"23:59\",\n",
    "    \"end_date\": \"2025-05-28\",\n",
    "    \"timezone\": \"\",\n",
    "    \"location\": \"\",\n",
    "    \"invitees\": [],\n",
    "    \"notifications\": [{{\"method\": \"popup\", \"minutes\": 60}}],\n",
    "    \"recurrence\": \"\",\n",
    "    \"confidence\": 0.88\n",
    "  }}\n",
    "]\n",
    "\n",
    "Now parse this input:\n",
    "\"{user_input}\"\n",
    "\"\"\"\n"
   ]
  }
 ],
 "metadata": {
  "kernelspec": {
   "display_name": "sandboxenv",
   "language": "python",
   "name": "python3"
  },
  "language_info": {
   "codemirror_mode": {
    "name": "ipython",
    "version": 3
   },
   "file_extension": ".py",
   "mimetype": "text/x-python",
   "name": "python",
   "nbconvert_exporter": "python",
   "pygments_lexer": "ipython3",
   "version": "3.13.7"
  }
 },
 "nbformat": 4,
 "nbformat_minor": 5
}
